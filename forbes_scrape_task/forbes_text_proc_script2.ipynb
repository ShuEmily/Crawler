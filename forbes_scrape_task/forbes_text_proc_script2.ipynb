{
 "cells": [
  {
   "cell_type": "code",
   "execution_count": 1,
   "metadata": {
    "scrolled": true
   },
   "outputs": [],
   "source": [
    "with open('twitter-shares-jump-after-apples-privacy-changes-have-minimal-impact-on-quarterly-earnings.txt') as f:\n",
    "    contents = f.read()\n",
    "    # print(contents)"
   ]
  },
  {
   "cell_type": "markdown",
   "metadata": {},
   "source": [
    "###   1. Remove all company names shown in the article "
   ]
  },
  {
   "cell_type": "code",
   "execution_count": 2,
   "metadata": {},
   "outputs": [],
   "source": [
    "# (Please do not use hardcode to specify the company name) \n",
    "contents = contents.replace('Twitter', '') \n",
    "contents = contents.replace('Apple', '') "
   ]
  },
  {
   "cell_type": "markdown",
   "metadata": {},
   "source": [
    "### 2. Regular Expression/Normalization"
   ]
  },
  {
   "cell_type": "code",
   "execution_count": 3,
   "metadata": {
    "scrolled": true
   },
   "outputs": [],
   "source": [
    "# lowercase the words, \n",
    "contents = contents.lower()\n",
    "\n",
    "# remove punctuation \n",
    "punc = '''!()-[]{};:\\,<>./?@#$%^&*_'‘’“”|~'''\n",
    "def removePunc(str_lst):\n",
    "    for j in str_lst:\n",
    "        if j in punc:\n",
    "            str_lst = str_lst.replace(j, \"\")\n",
    "    return str_lst\n",
    "contents = removePunc(contents)\n",
    "\n",
    "# remove numbers\n",
    "import re\n",
    "contents = re.sub(r'\\d+', '', contents)\n",
    "# print(contents)"
   ]
  },
  {
   "cell_type": "markdown",
   "metadata": {},
   "source": [
    "### 3.Tokenization"
   ]
  },
  {
   "cell_type": "code",
   "execution_count": 4,
   "metadata": {},
   "outputs": [],
   "source": [
    "from nltk.tokenize import word_tokenize\n",
    "tok_contt = word_tokenize(contents)"
   ]
  },
  {
   "cell_type": "markdown",
   "metadata": {},
   "source": [
    "### 4.Remove stop words"
   ]
  },
  {
   "cell_type": "code",
   "execution_count": 5,
   "metadata": {},
   "outputs": [
    {
     "name": "stderr",
     "output_type": "stream",
     "text": [
      "[nltk_data] Downloading package stopwords to\n",
      "[nltk_data]     C:\\Users\\37251\\AppData\\Roaming\\nltk_data...\n",
      "[nltk_data]   Package stopwords is already up-to-date!\n"
     ]
    },
    {
     "data": {
      "text/plain": [
       "True"
      ]
     },
     "execution_count": 5,
     "metadata": {},
     "output_type": "execute_result"
    }
   ],
   "source": [
    "import nltk\n",
    "nltk.download('stopwords')"
   ]
  },
  {
   "cell_type": "code",
   "execution_count": 25,
   "metadata": {},
   "outputs": [],
   "source": [
    "# !  pip install stop-words"
   ]
  },
  {
   "cell_type": "code",
   "execution_count": 6,
   "metadata": {},
   "outputs": [],
   "source": [
    "from stop_words import get_stop_words\n",
    "from nltk.corpus import stopwords\n",
    "\n",
    "stop_words = list(get_stop_words('en'))         #About 900 stopwords\n",
    "nltk_words = list(stopwords.words('english')) #About 150 stopwords\n",
    "stop_words.extend(nltk_words)\n",
    "\n",
    "tok_contt = [w for w in tok_contt if not w in stop_words]"
   ]
  },
  {
   "cell_type": "markdown",
   "metadata": {},
   "source": [
    "### 5. Lemmatization"
   ]
  },
  {
   "cell_type": "code",
   "execution_count": 7,
   "metadata": {},
   "outputs": [
    {
     "name": "stderr",
     "output_type": "stream",
     "text": [
      "[nltk_data] Downloading package wordnet to\n",
      "[nltk_data]     C:\\Users\\37251\\AppData\\Roaming\\nltk_data...\n",
      "[nltk_data]   Package wordnet is already up-to-date!\n"
     ]
    }
   ],
   "source": [
    "import nltk\n",
    "nltk.download('wordnet')\n",
    "import pandas as pd\n",
    "from nltk.stem import WordNetLemmatizer\n",
    "from nltk import pos_tag\n",
    "\n",
    "wordnet_lemmatizer = WordNetLemmatizer() #defining the object for Lemmatization\n",
    "\n",
    "def lemmatizer(text):\n",
    "    # lemmatize include more than plural nouns\n",
    "    lemm_text = [wordnet_lemmatizer.lemmatize(i,j[0].lower()) if j[0].lower() in ['a','n','v'] else wordnet_lemmatizer.lemmatize(i) for i,j in pos_tag(text)]\n",
    "    return lemm_text\n",
    "tok_contt = lemmatizer(tok_contt)"
   ]
  },
  {
   "cell_type": "markdown",
   "metadata": {},
   "source": [
    "### 6. Any other pre-processing steps you think is necessary to prepare this input for topic modelling."
   ]
  },
  {
   "cell_type": "code",
   "execution_count": 8,
   "metadata": {},
   "outputs": [],
   "source": [
    "# remove short words\n",
    "tok_contt = [w for w in tok_contt if len(w) > 3]"
   ]
  },
  {
   "cell_type": "code",
   "execution_count": 9,
   "metadata": {},
   "outputs": [],
   "source": [
    "file_object = open(r\"proc_twitter-shares-jump-after-apples-privacy.txt\",'w')\n",
    "file_object.write('\\n'.join(tok_contt))\n",
    "file_object.close()"
   ]
  },
  {
   "cell_type": "code",
   "execution_count": 10,
   "metadata": {},
   "outputs": [],
   "source": [
    "from sklearn.feature_extraction.text import TfidfVectorizer,CountVectorizer\n",
    "from sklearn.decomposition import LatentDirichletAllocation\n",
    "\n",
    "vectorizer = CountVectorizer()\n",
    "X = vectorizer.fit_transform(tok_contt)\n",
    "\n",
    "# # LDA \n",
    "# lda = LatentDirichletAllocation(n_components=3,  # num_topic\n",
    "#                                 # max_iter=5,    # EM max iter\n",
    "#                                 # learning_method='online',\n",
    "#                                 random_state=0)\n",
    "# docres = lda.fit_transform(X)"
   ]
  }
 ],
 "metadata": {
  "kernelspec": {
   "display_name": "Python 3",
   "language": "python",
   "name": "python3"
  },
  "language_info": {
   "codemirror_mode": {
    "name": "ipython",
    "version": 3
   },
   "file_extension": ".py",
   "mimetype": "text/x-python",
   "name": "python",
   "nbconvert_exporter": "python",
   "pygments_lexer": "ipython3",
   "version": "3.7.3"
  }
 },
 "nbformat": 4,
 "nbformat_minor": 2
}
